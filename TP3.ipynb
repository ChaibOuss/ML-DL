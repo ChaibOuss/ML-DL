{
  "nbformat": 4,
  "nbformat_minor": 0,
  "metadata": {
    "accelerator": "GPU",
    "colab": {
      "name": "TP3.ipynb",
      "provenance": [],
      "collapsed_sections": [],
      "include_colab_link": true
    },
    "kernelspec": {
      "display_name": "Python 3",
      "language": "python",
      "name": "python3"
    },
    "language_info": {
      "codemirror_mode": {
        "name": "ipython",
        "version": 3
      },
      "file_extension": ".py",
      "mimetype": "text/x-python",
      "name": "python",
      "nbconvert_exporter": "python",
      "pygments_lexer": "ipython3",
      "version": "3.7.3"
    }
  },
  "cells": [
    {
      "cell_type": "markdown",
      "metadata": {
        "id": "view-in-github",
        "colab_type": "text"
      },
      "source": [
        "<a href=\"https://colab.research.google.com/github/ChaibOuss/ML-DL/blob/main/TP3.ipynb\" target=\"_parent\"><img src=\"https://colab.research.google.com/assets/colab-badge.svg\" alt=\"Open In Colab\"/></a>"
      ]
    },
    {
      "cell_type": "markdown",
      "metadata": {
        "id": "hpMoHIL9buxC"
      },
      "source": [
        "## Introduction aux réseaux de neurones et à PyTorch\n",
        "\n",
        "\n",
        "\n",
        "\n"
      ]
    },
    {
      "cell_type": "markdown",
      "metadata": {
        "id": "Yan0U4btlY0T"
      },
      "source": [
        "Le but de ce tp est de vous guider dans la mise en œuvre d'un perceptron multicouche à l'aide de numpy et vous familiariser avec les concepts de base de PyTorch. Si vous connaissez bien ces sujets, n'hésitez pas à passer à la section des exercices à la fin ou à d'autres modules. Nous nous appuyerons sur des ressources de l'école [Brains, Minds and Machines summer course 2018.](http://cbmm.mit.edu/summer-school/2018)\n",
        "\n",
        "*  [PyTorch](https://pytorch.org/)"
      ]
    },
    {
      "cell_type": "markdown",
      "metadata": {
        "id": "5U8QQzBMbNyW"
      },
      "source": [
        "### Implémenter un Perceptron Multi-Couches"
      ]
    },
    {
      "cell_type": "markdown",
      "metadata": {
        "id": "2vgQcVI_TFCm"
      },
      "source": [
        "### XOr \n",
        "\n",
        "Comme vu en cours, le problème du Ou exclusif est iportant pour comprendre la nécessité des couches intermédiaires (cachées). Le but est d'utiliser un réseau de neurones pour prédire la sortie d'une porte logique XOr à partir de deux entrées binaires.\n",
        "\n",
        "Dans cet exercice, nous relâchons un peu le problème XOr. Au lieu d'entrées binaires, nous considérons des entrées en valeurs réelles. Lorsque les deux valeurs d’entrée ont le même signe, le réseau doit fournir 1; sinon, le réseau devrait afficher 0.\n",
        "\n",
        "Ci-après à quoi ressemblent les données d'apprentissage dans un tracé 2D. Le point rouge signifie que l'étiquette de sortie est 0, le point bleu signifie que l'étiquette de sortie est 1."
      ]
    },
    {
      "cell_type": "code",
      "metadata": {
        "colab": {
          "base_uri": "https://localhost:8080/",
          "height": 286
        },
        "id": "QdWhnDtxaWmf",
        "outputId": "71ce4042-a9b4-4c8c-edf5-1d0ac49865bc"
      },
      "source": [
        "import numpy as np\n",
        "\n",
        "%matplotlib inline\n",
        "import matplotlib.pyplot as plt\n",
        "\n",
        "# input of the MLP\n",
        "X = np.array([[1,1], [1,-1], [-1,-1], [-1,1]])\n",
        "# output of the MLP\n",
        "y = np.array([[0], [1], [0], [1]])\n",
        "\n",
        "# plot the training data\n",
        "fig, ax = plt.subplots()\n",
        "for i in range(y.shape[0]):\n",
        "  if y[i][0] == 0:\n",
        "    marker = 'ro'\n",
        "  else:\n",
        "    marker = 'bo'\n",
        "  ax.plot(X[i][0], X[i][1], marker)\n",
        "ax.axhline(y=0, color='k')\n",
        "ax.axvline(x=0, color='k')"
      ],
      "execution_count": null,
      "outputs": [
        {
          "data": {
            "text/plain": [
              "<matplotlib.lines.Line2D at 0x7f19faad32e8>"
            ]
          },
          "execution_count": 1,
          "metadata": {
            "tags": []
          },
          "output_type": "execute_result"
        },
        {
          "data": {
            "image/png": "[encoded data removed]",
            "text/plain": [
              "<Figure size 432x288 with 1 Axes>"
            ]
          },
          "metadata": {
            "tags": []
          },
          "output_type": "display_data"
        }
      ]
    },
    {
      "cell_type": "markdown",
      "metadata": {
        "id": "f-ZLpixBrNsT"
      },
      "source": [
        "Comme discuté dans le cours, les données ne sont pas séparables linéairement, d'où l'intérêt des couches intérmédiaires et des non-linéarités. "
      ]
    },
    {
      "cell_type": "markdown",
      "metadata": {
        "id": "E7KhqYuNsO81"
      },
      "source": [
        "### Implémenter les fonctions d'activation\n",
        "\n",
        "Plusieurs choix de fonctoins d'activation sont possibles :  sigmoïde, tanh, relu, etc. A titre d'illustratin, nous implémentons dans ce qui suit la  fonction sigmoïde à titre d'exemple. Nous avons aussi besoin de la dérivée de la sigmoïde pour la rétroprogataion."
      ]
    },
    {
      "cell_type": "code",
      "metadata": {
        "id": "KU2KeWZqwU7I"
      },
      "source": [
        "# Sigmoid Function\n",
        "def sigmoid(x):\n",
        "    return 1 / (1 + np.exp(-x))\n",
        "\n",
        "# Derivative of Sigmoid Function\n",
        "def derivative_sigmoid(x):\n",
        "    return x * (1 - x)"
      ],
      "execution_count": null,
      "outputs": []
    },
    {
      "cell_type": "markdown",
      "metadata": {
        "id": "u_b3BojzuPdq"
      },
      "source": [
        "### Une architecture PMC simple\n",
        "\n",
        "Nous concevons un PMC (MLP) simple pour résoudre ce problème. Le PMC comprend une couche cachée et une couche en sortie qui mappe les valeurs en sortie de la couche cachée aux valeurs en sortie.\n",
        "\n",
        "Nous commençons par initialiser le poids et le biais de chaque couche, ainsi que le nombre d’époques et le taux d’apprentissage (learning rate, step size)."
      ]
    },
    {
      "cell_type": "code",
      "metadata": {
        "id": "cQkt7V2pwYW-"
      },
      "source": [
        "epoch = 5000 # number of training iterations\n",
        "learning_rate = 0.1\n",
        "\n",
        "# dimension of each layer\n",
        "d_in = X.shape[1] # number of features in the input dataset\n",
        "d_h = 3   # hidden layer\n",
        "d_out = 1 # output layer\n",
        "\n",
        "# weight and bias initialization\n",
        "wh = np.random.uniform(size=(d_in, d_h))\n",
        "bh = np.random.uniform(size=(1, d_h))\n",
        "wout = np.random.uniform(size=(d_h, d_out))\n",
        "bout = np.random.uniform(size=(1, d_out))"
      ],
      "execution_count": null,
      "outputs": []
    },
    {
      "cell_type": "markdown",
      "metadata": {
        "id": "dZ44Oe5hkjda"
      },
      "source": [
        "Pour chaque itération, nous exécutons un passage avant (forward pass) pour obtenir la valeur prédite et calculer la perte entre la prédiction et la valeur réelle. Pour simplifier, nous utilisons les différences entre les deux valeurs comme fonction de perte. Ensuite, nous on calcule les gradients et on met à jour les poids et les biais (passe arrière, backpropagation du gradient)."
      ]
    },
    {
      "cell_type": "code",
      "metadata": {
        "colab": {
          "base_uri": "https://localhost:8080/",
          "height": 269
        },
        "id": "J7yugsy3wgU5",
        "outputId": "7975a54a-2853-4ee7-9440-a5b02e78d51c"
      },
      "source": [
        "for i in range(epoch):\n",
        "    # Forward pass\n",
        "    h = sigmoid(X.dot(wh) + bh)\n",
        "    y_pred = sigmoid(h.dot(wout) + bout)\n",
        "    \n",
        "    # Compute and print loss\n",
        "    loss = (y_pred - y).sum()\n",
        "    if i % 500 == 0:\n",
        "        print('Epoch', i, ':', loss)\n",
        "\n",
        "    # Backpropagation to compute gradients\n",
        "    \n",
        "    CALULER LES GRADIENTS QUI VOUS SERVIRONT POUR METTRE A JOUR LES POIDS CI DESSOUS\n",
        "\n",
        "    # Update weights and biases\n",
        "    wout += grad_wout * learning_rate\n",
        "    bout += grad_bout * learning_rate\n",
        "    wh += grad_wh * learning_rate\n",
        "    bh += grad_bh * learning_rate\n",
        "    \n",
        "print('Prediction of training data:')\n",
        "print(y_pred)"
      ],
      "execution_count": null,
      "outputs": [
        {
          "name": "stdout",
          "output_type": "stream",
          "text": [
            "Epoch 0 : 0.7163955667285227\n",
            "Epoch 500 : 0.03935416942525449\n",
            "Epoch 1000 : 0.034107619503751296\n",
            "Epoch 1500 : 0.03841771975195016\n",
            "Epoch 2000 : 0.030121840777215192\n",
            "Epoch 2500 : 0.023667150305801327\n",
            "Epoch 3000 : 0.019727459743708806\n",
            "Epoch 3500 : 0.017118890597347294\n",
            "Epoch 4000 : 0.015259654695148561\n",
            "Epoch 4500 : 0.013860126327340044\n",
            "Prediction of training data:\n",
            "[[0.04750884]\n",
            " [0.94739145]\n",
            " [0.07047163]\n",
            " [0.94739303]]\n"
          ]
        }
      ]
    },
    {
      "cell_type": "markdown",
      "metadata": {
        "id": "D75MnhxpmLg-"
      },
      "source": [
        "Les valeurs prédites sont très proches des vraies étiquettes . Pour obtenir une sortie binaire, il suffit de définir un seuil sur la sortie pour décider quelle étiquette attribuer."
      ]
    },
    {
      "cell_type": "markdown",
      "metadata": {
        "id": "PSTz3Y8vo5zb"
      },
      "source": [
        "Numpy offre toutes le fonctions pour implémenter tout type de réseaux de neurones. Cela demande toutefois un certain investissement. Des librairies implémentant des fonctions de haut niveau ont été développées pour faciliter l'implémentatin des réseaux de neurones, dont TensorFlow, PyTorch, Keras, MxNet, Caffe, Theano  qui sont très populaires dans la communauté du Deep Learning. Nous allons nous concentrer ici sur PyTorch."
      ]
    },
    {
      "cell_type": "markdown",
      "metadata": {
        "id": "8-_pfRvycFiH"
      },
      "source": [
        "## Introduction à PyTorch\n",
        "\n",
        "PyTorch est une bibliothèque open source dédiée au calcul scientifique utilisant des graphes de calcul. Les nœuds dans le graphe représentent des opérations mathématiques, tandis que les arêtes représentent les tableaux de données multidimensionnels (tenseurs).\n",
        "\n",
        "\n",
        "A l'instar du principe de programmation sous python, il est possible d'ajouter et d'exécuter immédiatement un nœud dans le graphe de calcul. Cette propriété facilite le débogage du code et l'inspection des valeurs dans le réseau.\n",
        "\n"
      ]
    },
    {
      "cell_type": "code",
      "metadata": {
        "colab": {
          "base_uri": "https://localhost:8080/"
        },
        "id": "Yuz0npgvorCH",
        "outputId": "344ecdea-26a7-447c-ad6f-04563e8e80c2"
      },
      "source": [
        "!pip3 install torch"
      ],
      "execution_count": 1,
      "outputs": [
        {
          "output_type": "stream",
          "name": "stdout",
          "text": [
            "Requirement already satisfied: torch in /usr/local/lib/python3.7/dist-packages (1.9.0+cu111)\n",
            "Requirement already satisfied: typing-extensions in /usr/local/lib/python3.7/dist-packages (from torch) (3.7.4.3)\n"
          ]
        }
      ]
    },
    {
      "cell_type": "markdown",
      "metadata": {
        "id": "yLD-V2P7vsol"
      },
      "source": [
        "PyTorch fournit différents modules qui nous intéresent :\n",
        "\n",
        "*  [ ```torch.nn```](https://pytorch.org/docs/stable/nn.html): Ce module fournit les éléments de base pour la création des réseaux, y compris l'implémentation de différents types de layers. \n",
        "*  [```torch.optim```](https://pytorch.org/docs/stable/optim.html): Ce module fournit différents méthodes d'optimisation."
      ]
    },
    {
      "cell_type": "code",
      "metadata": {
        "id": "sxXmnREVnxYw"
      },
      "source": [
        "import torch\n",
        "import torch.nn as nn"
      ],
      "execution_count": 2,
      "outputs": []
    },
    {
      "cell_type": "markdown",
      "metadata": {
        "id": "n5V07-rzkKZc"
      },
      "source": [
        "### Tenseurs\n",
        "\n",
        "Les tenseurs sont les feuilles du cgraphe du calcul. Par défaut, un tenseur est initialisé par des valeurs aléatoires. \n",
        "\n",
        "On peut appliquer des opérations définies dans   [```torch.Tensor```](https://pytorch.org/docs/stable/tensors.html) sur les tenseurs."
      ]
    },
    {
      "cell_type": "code",
      "metadata": {
        "colab": {
          "base_uri": "https://localhost:8080/",
          "height": 353
        },
        "id": "ksDjUZ9V7AC3",
        "outputId": "97fb8d28-dd29-4877-a71e-98d28ee49171"
      },
      "source": [
        "A = torch.Tensor(5, 3)\n",
        "B = torch.rand(5, 3)\n",
        "\n",
        "print(A)\n",
        "print(B)\n",
        "print(A + B)\n",
        "print(torch.add(A, B))"
      ],
      "execution_count": null,
      "outputs": [
        {
          "name": "stdout",
          "output_type": "stream",
          "text": [
            "tensor([[4.2200e-36, 0.0000e+00, 3.7835e-44],\n",
            "        [0.0000e+00,        nan, 0.0000e+00],\n",
            "        [1.3733e-14, 6.4069e+02, 4.3066e+21],\n",
            "        [1.1824e+22, 4.3066e+21, 6.3828e+28],\n",
            "        [3.8016e-39, 2.7477e-06, 0.0000e+00]])\n",
            "tensor([[3.3195e-01, 5.6297e-01, 1.1614e-01],\n",
            "        [2.3011e-01, 2.5534e-01, 6.6223e-01],\n",
            "        [2.2048e-04, 5.7540e-01, 5.5024e-01],\n",
            "        [7.1060e-01, 7.6698e-01, 6.9546e-01],\n",
            "        [8.8634e-01, 1.8261e-01, 8.3599e-01]])\n",
            "tensor([[3.3195e-01, 5.6297e-01, 1.1614e-01],\n",
            "        [2.3011e-01,        nan, 6.6223e-01],\n",
            "        [2.2048e-04, 6.4127e+02, 4.3066e+21],\n",
            "        [1.1824e+22, 4.3066e+21, 6.3828e+28],\n",
            "        [8.8634e-01, 1.8261e-01, 8.3599e-01]])\n",
            "tensor([[3.3195e-01, 5.6297e-01, 1.1614e-01],\n",
            "        [2.3011e-01,        nan, 6.6223e-01],\n",
            "        [2.2048e-04, 6.4127e+02, 4.3066e+21],\n",
            "        [1.1824e+22, 4.3066e+21, 6.3828e+28],\n",
            "        [8.8634e-01, 1.8261e-01, 8.3599e-01]])\n"
          ]
        }
      ]
    },
    {
      "cell_type": "markdown",
      "metadata": {
        "id": "psFIDzYG9N3N"
      },
      "source": [
        "### Numpy Bridge\n",
        "\n",
        "Vous pouvez facilement convertir un tenseur en tableau numpy et inversement. La variable  tenseur définie par Torch et le tableau numpy partageront le même emplacement mémoire. La modification de l'un entraînera la modification de l'autre."
      ]
    },
    {
      "cell_type": "code",
      "metadata": {
        "colab": {
          "base_uri": "https://localhost:8080/",
          "height": 67
        },
        "id": "SaTw_NLC8j43",
        "outputId": "a0a653ff-fc32-4864-f6b2-63a1fecf0674"
      },
      "source": [
        "# convert pytorch tensor to numpy\n",
        "a = torch.ones(5)\n",
        "print(a.numpy())\n",
        "a.numpy()[1] = 2\n",
        "print(a)\n",
        "\n",
        "# convert numpy to pytorch tensor\n",
        "b = np.ones(5)\n",
        "print(torch.from_numpy(b))"
      ],
      "execution_count": null,
      "outputs": [
        {
          "name": "stdout",
          "output_type": "stream",
          "text": [
            "[1. 1. 1. 1. 1.]\n",
            "tensor([1., 2., 1., 1., 1.])\n",
            "tensor([1., 1., 1., 1., 1.], dtype=torch.float64)\n"
          ]
        }
      ]
    },
    {
      "cell_type": "markdown",
      "metadata": {
        "id": "ZdGO2GO5iBtd"
      },
      "source": [
        "### Calcul du Gradient par Autograd\n",
        "\n",
        "PyTorch utilise une technique appelée [différenciation automatique](https://en.wikipedia.org/wiki/Automatic_differentiation) Cette technique est particulièrement efficace lors de la construction de réseaux de neurones, puisqu'elle permet de gagner du temps en calculant le gradient lors de la passe forward.\n",
        "\n",
        "\n",
        "Une fois le calcul de la passe forward esteffectuée, on appelle la fonction  ```.backward()``` et l'on obtient les gradients automatiquement. On accède au gradient associé à un tenseur par  ```.grad```."
      ]
    },
    {
      "cell_type": "code",
      "metadata": {
        "colab": {
          "base_uri": "https://localhost:8080/",
          "height": 67
        },
        "id": "EEMqVESN7ZGc",
        "outputId": "0fe829c1-b4b5-4052-81b7-b11e6b074b10"
      },
      "source": [
        "x = torch.randn(3, requires_grad=True)\n",
        "print(x)\n",
        "y = x * 2\n",
        "print(y)\n",
        "out = y.mean()\n",
        "\n",
        "# compute gradients\n",
        "out.backward()\n",
        "# print gradients d(out)/dx\n",
        "print(x.grad.data)"
      ],
      "execution_count": null,
      "outputs": [
        {
          "name": "stdout",
          "output_type": "stream",
          "text": [
            "tensor([ 0.7623, -0.8698,  2.0604], requires_grad=True)\n",
            "tensor([ 1.5245, -1.7397,  4.1208], grad_fn=<MulBackward0>)\n",
            "tensor([0.6667, 0.6667, 0.6667])\n"
          ]
        }
      ]
    },
    {
      "cell_type": "markdown",
      "metadata": {
        "id": "bWptF0Jvsyy7"
      },
      "source": [
        "### Utilisation GPU (si vous en avez, et il enfaudra pour le Deep!)\n",
        "\n",
        "Pour exploiter les GPU, il faudrait déplacer les tenseurs et les couches du réseaux dans la mémoire du GPU. Pour ce faire appelez la fonction ```.cuda()``` ou créez un tenseur dans l'emplacement directement. Si vous avez plusieurs GPU, vous pouvez spécifier quel GPU utiliser  ```cuda:n``` avec n l'identifiant du GPU en question.  "
      ]
    },
    {
      "cell_type": "code",
      "metadata": {
        "colab": {
          "base_uri": "https://localhost:8080/",
          "height": 118
        },
        "id": "L83hXMOJ7Zqn",
        "outputId": "dcf5b679-78a7-41df-864a-9434739f9eb8"
      },
      "source": [
        "# move tensor to GPU\n",
        "if torch.cuda.is_available():\n",
        "    a = a.cuda()\n",
        "    print(a)\n",
        "    x = torch.randn(2, 3, device=torch.device(\"cuda:0\"))\n",
        "    print(x)\n",
        "\n",
        "# move back to CPU\n",
        "a = a.cpu()\n",
        "print(a)\n",
        "x = torch.randn(2, 3, device=torch.device(\"cpu\"))\n",
        "print(x)"
      ],
      "execution_count": null,
      "outputs": [
        {
          "name": "stdout",
          "output_type": "stream",
          "text": [
            "tensor([1., 2., 1., 1., 1.], device='cuda:0')\n",
            "tensor([[-0.2552,  2.0635,  0.5792],\n",
            "        [ 0.7092, -0.5568,  0.3352]], device='cuda:0')\n",
            "tensor([1., 2., 1., 1., 1.])\n",
            "tensor([[ 0.7555, -0.8787, -1.7372],\n",
            "        [ 0.7786,  1.8609, -0.0780]])\n"
          ]
        }
      ]
    },
    {
      "cell_type": "markdown",
      "metadata": {
        "id": "mdBN-XDAiUaH"
      },
      "source": [
        "### Régression linéaire avec PyTorch"
      ]
    },
    {
      "cell_type": "markdown",
      "metadata": {
        "id": "Dst3kvAa4mzi"
      },
      "source": [
        "Maintenant que vous connaissez les rudiements de PyTorch, construisons un modèle de régression simple. \n",
        "\n",
        "On génére 100 x, y  points pour l'entrainement. Les données suivent la formule: $y = 3.0 x + 1.0$\n",
        "\n",
        "Le but est d'apprendre W et b à partir des données d'entrainement. "
      ]
    },
    {
      "cell_type": "code",
      "metadata": {
        "colab": {
          "base_uri": "https://localhost:8080/",
          "height": 286
        },
        "id": "WVmEBRDtnL_n",
        "outputId": "98f1134f-7b46-466d-814f-3c13e1b4dc38"
      },
      "source": [
        "x_train = np.random.rand(100).astype(np.float32).reshape(-1,1)\n",
        "y_correct = 3.0 * x_train + 1.0\n",
        "\n",
        "plt.plot(x_train, y_correct)"
      ],
      "execution_count": null,
      "outputs": [
        {
          "data": {
            "text/plain": [
              "[<matplotlib.lines.Line2D at 0x7f19ac11bb70>]"
            ]
          },
          "execution_count": 11,
          "metadata": {
            "tags": []
          },
          "output_type": "execute_result"
        },
        {
          "data": {
            "image/png": "[encoded data removed]",
            "text/plain": [
              "<Figure size 432x288 with 1 Axes>"
            ]
          },
          "metadata": {
            "tags": []
          },
          "output_type": "display_data"
        }
      ]
    },
    {
      "cell_type": "markdown",
      "metadata": {
        "id": "v7sLgrdF55GE"
      },
      "source": [
        "Un modèle dans PyTorch est une subclass d ```nn.Module```. Il existe plusieurs \"layers\" prédéfinis and de conteneurs dans le module  [ ```torch.nn```](https://pytorch.org/docs/stable/nn.html). Ceux-ci peuvent être utilisés pour construire des architectures complexes. \n",
        "\n",
        "Les différents \"layers\" que nous utiliserons sont :\n",
        "\n",
        "*   [```nn.Linear```](https://pytorch.org/docs/stable/nn.html#torch.nn.Linear): fully connected layer\n",
        "*   [```nn.Conv2d```](https://pytorch.org/docs/stable/nn.html#torch.nn.Conv2d): convolution layer\n",
        "* [```nn.MaxPool2d```](https://pytorch.org/docs/stable/nn.html#torch.nn.MaxPool2d): pooling\n",
        "\n",
        "\n",
        "On peut en construire de nouveaux en combinat ces \"layers\" avec les classes  ```Sequential``` et ```Concat```. \n",
        "\n",
        "La méthode principale à implémenter dans  ```nn.Module``` est ```forward```. Elle calcule la sortie du modèle étant donnée une entrée Tensor. Le calcul que l'on utilise ici définit l'architecture  et comment les données transitent entre couches. "
      ]
    },
    {
      "cell_type": "markdown",
      "metadata": {
        "id": "UDCf-Bsbs1G9"
      },
      "source": [
        "Un modèle de regeression simple est basiquement un réseau à une seule couche!\n",
        "\n",
        "On commence par définir les couches dont on a besoin dans ```__init__``` puis nous specifions```forward```."
      ]
    },
    {
      "cell_type": "code",
      "metadata": {
        "colab": {
          "base_uri": "https://localhost:8080/",
          "height": 136
        },
        "id": "nhTUIFa1mBOv",
        "outputId": "2040e763-4d03-420e-9e68-202ecf712e76"
      },
      "source": [
        "class LinearRegressionModel(nn.Module):\n",
        "\n",
        "    def __init__(self, input_dim, output_dim):\n",
        "\n",
        "        super(LinearRegressionModel, self).__init__() \n",
        "        self.linear = A COMPLETER, UTILISER LA FONCTION nn.Linear de PyTorch\n",
        "\n",
        "    def forward(self, x):\n",
        "        out = self.linear(x)\n",
        "        return out"
      ],
      "execution_count": null,
      "outputs": [
        {
          "ename": "SyntaxError",
          "evalue": "ignored",
          "output_type": "error",
          "traceback": [
            "\u001b[0;36m  File \u001b[0;32m\"<ipython-input-1-f72ae06058e2>\"\u001b[0;36m, line \u001b[0;32m6\u001b[0m\n\u001b[0;31m    self.linear = A COMPLETER, UTILISER LA FONCTION nn.Linear de PyTORHC\u001b[0m\n\u001b[0m                            ^\u001b[0m\n\u001b[0;31mSyntaxError\u001b[0m\u001b[0;31m:\u001b[0m invalid syntax\n"
          ]
        }
      ]
    },
    {
      "cell_type": "markdown",
      "metadata": {
        "id": "qDcS92LctVbu"
      },
      "source": [
        "Nous instancions par la suite le modèle pour l'entrainement. Nous utiliserons l'eereur quadratique moyenne ([`nn.MSELoss`](https://pytorch.org/docs/stable/nn.html#torch.nn.MSELoss)) comme fonction de perte à optimiser par descente de gradient stochastique ([`torch.optim.SGD`](https://pytorch.org/docs/stable/optim.html#torch.optim.SGD)).\n",
        "\n",
        "Nous avons besoin de spécifier les paramètres à optimiser  dans les premiers arguments de la fonction d'optimisation choisie. On met souvent, tous les paramètres du modèle.  "
      ]
    },
    {
      "cell_type": "code",
      "metadata": {
        "id": "G_DRNqNWmJmw"
      },
      "source": [
        "model = LinearRegressionModel(1, 1)\n",
        "\n",
        "criterion = nn.MSELoss()\n",
        "learing_rate = 0.01\n",
        "optimizer = torch.optim.SGD(model.parameters(), lr=learing_rate)\n",
        "\n",
        "epochs = 2000"
      ],
      "execution_count": null,
      "outputs": []
    },
    {
      "cell_type": "markdown",
      "metadata": {
        "id": "6ApWdrpsuqkD"
      },
      "source": [
        "A l'instart de ce que nous avons fait dans l'exemple avec numpy, à chaque itératino de l'entrainement, nous effectons une passe avant, pour calculer la perte (erreur), on calcul les gradients  (avec ```.backward()```), et on met à jour les paramètres  ```.step()``` en utilisant la fonction d'optimization (optimizer).\n",
        "\n",
        "**Note** : il est nécessaire de supprimer les gradients qui ont été accumulés lors des itérations précédantes en appelant la fonction  ```optimizer.zero_grad()``` au début de chaque itération."
      ]
    },
    {
      "cell_type": "code",
      "metadata": {
        "colab": {
          "base_uri": "https://localhost:8080/",
          "height": 353
        },
        "id": "iWJJUZnjmVjs",
        "outputId": "f1bd5008-6149-4b8f-eb97-f5e9f34998c7"
      },
      "source": [
        "for epoch in range(epochs):\n",
        "    inputs = torch.from_numpy(x_train)\n",
        "    labels = torch.from_numpy(y_correct)\n",
        "\n",
        "    optimizer.zero_grad()\n",
        "    outputs = model.forward(inputs)\n",
        "    loss = criterion(outputs, labels)\n",
        "    loss.backward()\n",
        "    optimizer.step()\n",
        "    if epoch % 100 == 0:\n",
        "        print('epoch {}, loss {}'.format(epoch, loss.item()))"
      ],
      "execution_count": null,
      "outputs": [
        {
          "name": "stdout",
          "output_type": "stream",
          "text": [
            "epoch 0, loss 4.842373371124268\n",
            "epoch 100, loss 0.44952383637428284\n",
            "epoch 200, loss 0.3464699685573578\n",
            "epoch 300, loss 0.2838762700557709\n",
            "epoch 400, loss 0.2327028512954712\n",
            "epoch 500, loss 0.19075506925582886\n",
            "epoch 600, loss 0.15636885166168213\n",
            "epoch 700, loss 0.12818123400211334\n",
            "epoch 800, loss 0.10507483035326004\n",
            "epoch 900, loss 0.08613370358943939\n",
            "epoch 1000, loss 0.07060690969228745\n",
            "epoch 1100, loss 0.05787894129753113\n",
            "epoch 1200, loss 0.04744543507695198\n",
            "epoch 1300, loss 0.038892749696969986\n",
            "epoch 1400, loss 0.031881652772426605\n",
            "epoch 1500, loss 0.02613457478582859\n",
            "epoch 1600, loss 0.02142350748181343\n",
            "epoch 1700, loss 0.017561649903655052\n",
            "epoch 1800, loss 0.014395863749086857\n",
            "epoch 1900, loss 0.011800785548985004\n"
          ]
        }
      ]
    },
    {
      "cell_type": "markdown",
      "metadata": {
        "id": "rkv5XxhTxf8Y"
      },
      "source": [
        "Une fois le modèle entrainé, on peut appeler la fonction  ```forward``` pour calculer la prédiction pour tout nouveau point.\n",
        "\n",
        "On peut aussi visualiser tout cela !"
      ]
    },
    {
      "cell_type": "code",
      "metadata": {
        "colab": {
          "base_uri": "https://localhost:8080/",
          "height": 286
        },
        "id": "dVv7qRWcmtLD",
        "outputId": "bf412cbe-2dd0-4476-b7b1-0ac9d45c0715"
      },
      "source": [
        "predicted = model.forward(torch.from_numpy(x_train)).data.numpy()\n",
        "\n",
        "plt.plot(x_train, y_correct, 'go', label='from data', alpha=0.5)\n",
        "plt.plot(x_train, predicted, label='prediction', alpha=0.5)\n",
        "plt.legend()"
      ],
      "execution_count": null,
      "outputs": [
        {
          "data": {
            "text/plain": [
              "<matplotlib.legend.Legend at 0x7f19a2d3f9b0>"
            ]
          },
          "execution_count": 15,
          "metadata": {
            "tags": []
          },
          "output_type": "execute_result"
        },
        {
          "data": {
            "image/png": "[encoded data removed]",
            "text/plain": [
              "<Figure size 432x288 with 1 Axes>"
            ]
          },
          "metadata": {
            "tags": []
          },
          "output_type": "display_data"
        }
      ]
    },
    {
      "cell_type": "markdown",
      "metadata": {
        "id": "TOvsDfZ3yCcC"
      },
      "source": [
        "Dans le cas où il u a eu un problème qte que vous souhaitez inspecter les paramètres appris, on peut utiliser les fonctions suivantes :"
      ]
    },
    {
      "cell_type": "code",
      "metadata": {
        "colab": {
          "base_uri": "https://localhost:8080/",
          "height": 84
        },
        "id": "7U1l_qu1UB_C",
        "outputId": "01a46a09-d0d7-4366-d6ac-46c98da9b52f"
      },
      "source": [
        "print(model.linear.weight)\n",
        "print(model.linear.bias)"
      ],
      "execution_count": null,
      "outputs": [
        {
          "name": "stdout",
          "output_type": "stream",
          "text": [
            "Parameter containing:\n",
            "tensor([[2.6077]], requires_grad=True)\n",
            "Parameter containing:\n",
            "tensor([1.2022], requires_grad=True)\n"
          ]
        }
      ]
    },
    {
      "cell_type": "markdown",
      "metadata": {
        "id": "OZItfQbKkaOO"
      },
      "source": [
        "### Exercice: Revisiter l'example XOr en utilisant PyTorch"
      ]
    },
    {
      "cell_type": "markdown",
      "metadata": {
        "id": "lr3Rc0blycby"
      },
      "source": [
        "Nous considérons à présent des données entre -10 et 10 pour l'entrainement. \n"
      ]
    },
    {
      "cell_type": "code",
      "metadata": {
        "id": "D3OvIBzZzXKJ"
      },
      "source": [
        "import random\n",
        "random.seed(1)\n",
        "\n",
        "x_train = []\n",
        "y_correct = []\n",
        "for i in range(100):\n",
        "    x0 = random.randint(-10, 10)\n",
        "    x1 = random.randint(-10, 10)\n",
        "    label = 0 if x0 * x1 > 0 else 1\n",
        "    x_train.append([x0, x1])\n",
        "    y_correct.append(label)\n",
        "x_train = np.asarray(x_train)\n",
        "y_correct = np.asarray(y_correct)"
      ],
      "execution_count": null,
      "outputs": []
    },
    {
      "cell_type": "markdown",
      "metadata": {
        "id": "EWeHO8mgzHuV"
      },
      "source": [
        "Vous devez pour cet exercice implémenter pour modèle. Vous pouvez reprendre la même architecture que dans le début de ce TP qui consiste en un réseau avec une couche cachée. \n",
        "\n",
        "Pour appliquer la fonction sigmoid, vous pouvez utiliser [`torch.sigmoid`](https://pytorch.org/docs/stable/torch.html#torch.sigmoid)."
      ]
    },
    {
      "cell_type": "code",
      "metadata": {
        "id": "GEpZGXiCz9O3"
      },
      "source": [
        "class XorClassifier(nn.Module):\n",
        "\n",
        "    def __init__(self, input_dim, output_dim):\n",
        "\n",
        "        super(XorClassifier, self).__init__() \n",
        "        \n",
        "        \n",
        "        A completer.\n",
        "\n",
        "\n",
        "    def forward(self, x):\n",
        "        out = self.layer1(x)\n",
        "        out = self.layer2(out)\n",
        "        return out"
      ],
      "execution_count": null,
      "outputs": []
    },
    {
      "cell_type": "markdown",
      "metadata": {
        "id": "ZkeRbaEa2xB1"
      },
      "source": [
        "Contrairement à ce que nous avions fait auparavant, nous souhaitons ici que la couche de sortie produise deux valeurs indiquant la distribution de probabilité sur les deux étiquettes possibles au lieu d'une valeur réelle par étiquette.\n",
        "\n",
        "Pour ce faire, nous fixons la dimension de sortie à 2, et utilisons la  cross entropy comme fonction de perte ([`nn.CrossEntropyLoss()`](https://pytorch.org/docs/stable/nn.html#torch.nn.CrossEntropyLoss)) qui est utile quand on fait de la classification à N classes. \n",
        "\n",
        "Nous allons aussi utiliser une autre méthode d'optimisation très populaire. [Adam](https://pytorch.org/docs/stable/optim.html#torch.optim.Adam). Vous pouvez comparer les résultats avec un SGD!"
      ]
    },
    {
      "cell_type": "code",
      "metadata": {
        "id": "4A207iKQ0V0E"
      },
      "source": [
        "model = XorClassifier(2, 2)\n",
        "\n",
        "criterion = nn.CrossEntropyLoss()\n",
        "learning_rate = 0.0005\n",
        "optimizer = torch.optim.Adam(model.parameters(), lr=learning_rate)\n",
        "\n",
        "epochs = 5000"
      ],
      "execution_count": null,
      "outputs": []
    },
    {
      "cell_type": "markdown",
      "metadata": {
        "id": "nwlmcJ4B2cgJ"
      },
      "source": [
        "Compléter le code ci-après pour entraîner le modèle."
      ]
    },
    {
      "cell_type": "code",
      "metadata": {
        "colab": {
          "base_uri": "https://localhost:8080/",
          "height": 185
        },
        "id": "QvUkHJGA0qHZ",
        "outputId": "def72082-3689-45a1-9ccb-91eaae0dc4d6"
      },
      "source": [
        "for epoch in range(epochs):\n",
        "    inputs = torch.from_numpy(x_train).type(torch.FloatTensor)\n",
        "    labels = torch.from_numpy(y_correct)\n",
        "    \n",
        "    # TODO: please complete the training script\n",
        "    loss = criterion(model(inputs), labels)\n",
        "    loss.backward()\n",
        "    optimizer.step()\n",
        "    if epoch % 500 == 0:\n",
        "        print('epoch {}, loss {}'.format(epoch, loss.item()))"
      ],
      "execution_count": null,
      "outputs": [
        {
          "name": "stdout",
          "output_type": "stream",
          "text": [
            "epoch 0, loss 0.7153720855712891\n",
            "epoch 500, loss 0.6749582886695862\n",
            "epoch 1000, loss 0.6126927733421326\n",
            "epoch 1500, loss 0.5213003754615784\n",
            "epoch 2000, loss 0.4378437399864197\n",
            "epoch 2500, loss 0.37039363384246826\n",
            "epoch 3000, loss 0.3205169439315796\n",
            "epoch 3500, loss 0.2740650773048401\n",
            "epoch 4000, loss 0.26450884342193604\n",
            "epoch 4500, loss 0.24083729088306427\n"
          ]
        }
      ]
    },
    {
      "cell_type": "markdown",
      "metadata": {
        "id": "tZcAm8Jx2tqj"
      },
      "source": [
        "Puisque nous prédisons la distribution sur les étiquettes, nous devons prendre l'indice de la valeur maximale comme étiquette prédite.\n",
        "\n",
        "Ensuite, nous pouvons visualiser les prédictions. Si votre modèle apprend bien, vous verrez que la plupart des points des premier et troisième quadrants sont rouges et que les points des deuxième et quatrième quadrants sont bleus."
      ]
    },
    {
      "cell_type": "code",
      "metadata": {
        "colab": {
          "base_uri": "https://localhost:8080/",
          "height": 286
        },
        "id": "_0BUGKtMRE3c",
        "outputId": "f4d6eaef-8440-4508-983f-fc65de82f41e"
      },
      "source": [
        "outputs = model.forward(torch.from_numpy(x_train).type(torch.FloatTensor))\n",
        "_, predicted = torch.max(outputs, 1)\n",
        "\n",
        "fig, ax = plt.subplots()\n",
        "for i in range(y_correct.shape[0]):\n",
        "    if predicted[i] == 0:\n",
        "        marker = 'ro'\n",
        "    else:\n",
        "        marker = 'bo'\n",
        "    ax.plot(x_train[i][0], x_train[i][1], marker)\n",
        "ax.axhline(y=0, color='k')\n",
        "ax.axvline(x=0, color='k')"
      ],
      "execution_count": null,
      "outputs": [
        {
          "data": {
            "text/plain": [
              "<matplotlib.lines.Line2D at 0x7f19a2c14ac8>"
            ]
          },
          "execution_count": 21,
          "metadata": {
            "tags": []
          },
          "output_type": "execute_result"
        },
        {
          "data": {
            "image/png": "[encoded data removed]",
            "text/plain": [
              "<Figure size 432x288 with 1 Axes>"
            ]
          },
          "metadata": {
            "tags": []
          },
          "output_type": "display_data"
        }
      ]
    },
    {
      "cell_type": "markdown",
      "metadata": {
        "id": "0gtNP-lfY4KL"
      },
      "source": [
        "# La vraie vie ou preque : les CNN et la classificatoin d'images\n",
        "\n"
      ]
    },
    {
      "cell_type": "markdown",
      "metadata": {
        "id": "JYitUMzFTw2n"
      },
      "source": [
        "Ce tutoriel vous montrera comment\n",
        "* Construire, former et tester un réseau de neurones dans[PyTorch](https://pytorch.org/)\n",
        "* Travailler avec des convolutions\n",
        "* Visualiser les filtres et autres propriétés comme le réseau pendant l'apprentissage\n",
        "\n",
        "Pour ce faire, nous allons construire un réseau neuronal convolutionnel dans le but de classer les chiffres manuscrits de la base de données du MNIST."
      ]
    },
    {
      "cell_type": "code",
      "metadata": {
        "colab": {
          "base_uri": "https://localhost:8080/",
          "height": 134
        },
        "id": "PtUXQAZkTx7Z",
        "outputId": "6b6d8700-b9d6-4e9e-eb83-ee8a464be9f3"
      },
      "source": [
        "# import modules we will use for the tutorial\n",
        "import numpy as np\n",
        "%matplotlib inline\n",
        "import matplotlib.pyplot as plt\n",
        "\n",
        "# install and import torch-related modules\n",
        "!pip3 install torch torchvision\n",
        "\n",
        "import torch\n",
        "import torch.nn as nn\n",
        "import torch.nn.functional as F\n",
        "import torch.optim as optim\n",
        "from torch.optim import lr_scheduler\n",
        "import torchvision\n",
        "\n",
        "# detect if a GPU is available\n",
        "device = torch.device(\"cuda:0\" if torch.cuda.is_available() else \"cpu\")\n",
        "print(\"Running on device: {}\".format(device))"
      ],
      "execution_count": null,
      "outputs": [
        {
          "name": "stdout",
          "output_type": "stream",
          "text": [
            "Requirement already satisfied: torch in /usr/local/lib/python3.6/dist-packages (1.1.0)\n",
            "Requirement already satisfied: torchvision in /usr/local/lib/python3.6/dist-packages (0.2.2.post3)\n",
            "Requirement already satisfied: numpy in /usr/local/lib/python3.6/dist-packages (from torch) (1.16.3)\n",
            "Requirement already satisfied: pillow>=4.1.1 in /usr/local/lib/python3.6/dist-packages (from torchvision) (4.3.0)\n",
            "Requirement already satisfied: six in /usr/local/lib/python3.6/dist-packages (from torchvision) (1.12.0)\n",
            "Requirement already satisfied: olefile in /usr/local/lib/python3.6/dist-packages (from pillow>=4.1.1->torchvision) (0.46)\n",
            "Running on device: cuda:0\n"
          ]
        }
      ]
    },
    {
      "cell_type": "markdown",
      "metadata": {
        "id": "_OV68GROU-FR"
      },
      "source": [
        "## Configurer TensorBoard\n",
        "\n",
        "[Tensorboard](https://www.tensorflow.org/guide/summaries_and_tensorboard) est un utilitaire pour enregistrer et visualiser les activations, poids, pertes, etc de votre réseau, pendant et après l'apprentissage. Il simplifie grandement le débogage et le développement itératif de l'architecture du réseau. Il est fortement recommandé.\n",
        "\n",
        "Pour utiliser TensorBoard dans ce notebook, nous devons surmonter deux obstacles techniques :\n",
        " 1. nous utiliserons[PyTorch](https://pytorch.org/) pour travailler avec nos réseaux, mais comme son nom l'indique, TensorBoard est conçu pour fonctionner avec[TensorFlow](https://www.tensorflow.org/), un framework concurrent.\n",
        " 2. il est généralement plus facile d'utiliser TensorBoard lorsque vous travaillez sur votre ordinateur local ou sur un ordinateur sur votre réseau local, mais dans ce tutoriel nous allons exécuter ce notebook sur des machines virtuelles distantes via Colab.\n",
        "\n",
        "Il n'est pas important que vous compreniez exactement comment nous contournons ces problèmes (ce n'est pas le but du tutoriel !), mais le code est ci-dessous pour votre référence. Nous utiliserons un outil appelé[`tensorboardx`](https://github.com/lanpa/tensorboardX) ([documentation](https://tensorboardx.readthedocs.io/en/latest/?badge=latest)) pour résoudre le problème 1, et un outil appelé `ngrok' pour résoudre le problème 2.\n",
        "\n",
        "Après avoir lancé la cellule suivante, un lien devrait apparaître, que vous pouvez suivre pour voir votre interface TensorBoard nouvellement créée.\n"
      ]
    },
    {
      "cell_type": "code",
      "metadata": {
        "colab": {
          "base_uri": "https://localhost:8080/",
          "height": 118
        },
        "id": "pJO_Wo9OU-wW",
        "outputId": "ad88c7b8-c288-4634-9ae9-f4479b08a365"
      },
      "source": [
        "# download and unzip 'ngrok', the tool we will use to set up the tunnel\n",
        "ngrok_filename = 'ngrok-stable-linux-amd64.zip'\n",
        "!if [ ! -f $ngrok_filename ]; then wget https://bin.equinox.io/c/4VmDzA7iaHb/$ngrok_filename && unzip $ngrok_filename; fi\n",
        "\n",
        "# specify where we will write the logging data files to be read by TensorBoard\n",
        "LOG_DIR = './runs'\n",
        "\n",
        "# ensure the selected directory exists\n",
        "!mkdir -p $LOG_DIR\n",
        "\n",
        "# start TensorBoard\n",
        "get_ipython().system_raw(\n",
        "    'tensorboard --logdir {} --host 0.0.0.0 --port 6006 &'\n",
        "    .format(LOG_DIR)\n",
        ")\n",
        "\n",
        "# open the tunnel with ngrok\n",
        "get_ipython().system_raw('./ngrok http 6006 &')\n",
        "\n",
        "# display a link to the TensorBoard URL\n",
        "! curl -s http://localhost:4040/api/tunnels | python3 -c \\\n",
        "    \"import sys, json; print('Public TensorBoard URL: {}'.format(json.load(sys.stdin)['tunnels'][0]['public_url']))\"\n",
        "    \n",
        "# set up tensorboardx, which we will use to log stuff from pytorch\n",
        "!pip3 install tensorboardX\n",
        "from tensorboardX import SummaryWriter"
      ],
      "execution_count": null,
      "outputs": [
        {
          "name": "stdout",
          "output_type": "stream",
          "text": [
            "Public TensorBoard URL: https://9f2a388f.ngrok.io\n",
            "Requirement already satisfied: tensorboardX in /usr/local/lib/python3.6/dist-packages (1.6)\n",
            "Requirement already satisfied: numpy in /usr/local/lib/python3.6/dist-packages (from tensorboardX) (1.16.3)\n",
            "Requirement already satisfied: six in /usr/local/lib/python3.6/dist-packages (from tensorboardX) (1.12.0)\n",
            "Requirement already satisfied: protobuf>=3.2.0 in /usr/local/lib/python3.6/dist-packages (from tensorboardX) (3.7.1)\n",
            "Requirement already satisfied: setuptools in /usr/local/lib/python3.6/dist-packages (from protobuf>=3.2.0->tensorboardX) (41.0.1)\n"
          ]
        }
      ]
    },
    {
      "cell_type": "markdown",
      "metadata": {
        "id": "xmKSN_qcVH23"
      },
      "source": [
        "## La base de données MNIST\n",
        "\n",
        "La base de données MNIST] (https://en.wikipedia.org/wiki/MNIST_database) :\n",
        "- Elle se compose d'images de chiffres manuscrits de 0 à 9, et de leurs étiquettes ;\n",
        "- Chaque image est 28px * 28px ;\n",
        "- L'ensemble de données est divisé en deux sous-ensembles, un sous-ensemble d'\"apprentissage\" contenant 50000 échantillons et un sous-ensemble de \"test\" contenant 10000 échantillons.\n",
        "<p><img src=\"https://upload.wikimedia.org/wikipedia/commons/2/27/MnistExamples.png\" alt=\"MNIST sample images.\"><br>Sample MNIST images. Image by <a href=\"//commons.wikimedia.org/w/index.php?title=User:Jost_swd15&amp;action=edit&amp;redlink=1\" class=\"new\" title=\"User:Jost swd15 (page does not exist)\">Josef Steppan</a> </p>\n",
        "\n",
        "Comment charger les images et leurs étiquettes pour former et tester nos modèles ? Comme avec d'autres ensembles de données importants, PyTorch a[une interface pratique](https://pytorch.org/docs/stable/torchvision/datasets.html#) qui simplifie notre vie. Nous voulons utiliser cette interface pour créer des \"chargeurs de données\" qui nous permettront d'accéder aux données. Nous le ferons en fait deux fois pour l'ensemble de formation, car nous voulons nous assurer que toutes les données que nous utilisons pour apprendre et tester le réseau sont normalisées. Pour cette raison, nous chargerons d'abord les données d'apprentissage, calculerons la moyenne et l'écart-type de tous les pixels de l'ensemble de données et utiliserons ces chiffres pour définir de nouveaux chargeurs de données d'\"apprentissage\" et de \" test \" qui normaliseront automatiquement toutes les données à venir."
      ]
    },
    {
      "cell_type": "code",
      "metadata": {
        "id": "pYkhDORjVCjz"
      },
      "source": [
        "# note that PyTorch will automatically download the data from the internet the\n",
        "# first time we ask it to load it. Hence we have to specify where it should keep\n",
        "# the data\n",
        "data_folder = \"./data\"\n",
        "\n",
        "# define a data loader that we will only use to compute mean and standard\n",
        "# deviation on the training set, with the purpose of normalizing all data\n",
        "trainset_unnormalized = torchvision.datasets.MNIST(root=data_folder, train=True,\n",
        "                                                  download=True, transform=torchvision.transforms.ToTensor())\n",
        "unnormalized_loader = torch.utils.data.DataLoader(trainset_unnormalized,\n",
        "                                                  batch_size=1000)"
      ],
      "execution_count": null,
      "outputs": []
    },
    {
      "cell_type": "markdown",
      "metadata": {
        "id": "TDULBSaXWwH_"
      },
      "source": [
        "Avant de continuer, jetons un coup d'oeil à nos données brutes pour voir si elles ressemblent vraiment à des chiffres manuscrits."
      ]
    },
    {
      "cell_type": "code",
      "metadata": {
        "colab": {
          "base_uri": "https://localhost:8080/",
          "height": 154
        },
        "id": "elha_DlGW0xo",
        "outputId": "e3a8f215-3aec-4965-97d5-647a5b2c1e90"
      },
      "source": [
        "def imshow(img, ax=None):\n",
        "  \"\"\"Plot a PyTorch image using matplotlib\"\"\"\n",
        "  npimg = img.numpy()\n",
        "  if ax is None:\n",
        "    fig, ax = plt.subplots()\n",
        "  npimg = np.transpose(npimg, (1,2,0)) # this is needed as torch uses a (channel, height, width) representation while matplotlib usees (width, height, channel)\n",
        "  \n",
        "  npimg = (npimg - npimg.min(axis=(0,1)))/(npimg.max(axis=(0,1))-npimg.min(axis=(0,1))) # map the values to the interval [0,1] for each channel\n",
        "  ax.imshow(npimg)\n",
        "  ax.grid(False)\n",
        "\n",
        "# load one batch of images from the training set\n",
        "dataiter = iter(unnormalized_loader)\n",
        "images, labels = dataiter.next()\n",
        "\n",
        "# it will be useful, in the next cell, to be sure of the size of the images\n",
        "# (we know MNIST is 28x28 but it's better to make sure). In pytorch, batches of\n",
        "# data are organized as follows: (batch, channels, height, width), so if we want\n",
        "# the total number of pixels we have to multiply entries 2 and 3 of the size tuple\n",
        "# (remember that python uses 0-indexing)\n",
        "n_pixels = images.size()[2]*images.size()[3]\n",
        "\n",
        "# only keep the first 16 items of the minibatch for ease of visualization\n",
        "images = images[:16]\n",
        "labels = labels[:16]\n",
        "\n",
        "# print labels\n",
        "print('True labels for the images below:', ' '.join(('{}'.format(j) for j in labels)))\n",
        "\n",
        "# show images\n",
        "imshow(torchvision.utils.make_grid(images))"
      ],
      "execution_count": null,
      "outputs": [
        {
          "name": "stdout",
          "output_type": "stream",
          "text": [
            "True labels for the images below: 5 0 4 1 9 2 1 3 1 4 3 5 3 6 1 7\n"
          ]
        },
        {
          "data": {
            "image/png": "[encoded data removed]",
            "text/plain": [
              "<Figure size 432x288 with 1 Axes>"
            ]
          },
          "metadata": {
            "tags": []
          },
          "output_type": "display_data"
        }
      ]
    },
    {
      "cell_type": "code",
      "metadata": {
        "id": "fpz5IgECW8TV"
      },
      "source": [
        "# iterate over the training images, keeping a running average of the pixel value\n",
        "# and their second power. We are performing this iteration in batches of 1000\n",
        "# images at the time (controlled by the batch_size parameter in the line above).\n",
        "# Strictly speaking this is unnecessary as the whole dataset can easily fit into\n",
        "# memory, but we'll do it anyway to show how to iterate over a dataset in\n",
        "# batches using a data loader.\n",
        "n_total_images = len(trainset_unnormalized)\n",
        "train_mean = 0\n",
        "train_mean_squares = 0\n",
        "for i, data in enumerate(unnormalized_loader):\n",
        "  images, labels = data\n",
        "  train_mean += images.sum()/(n_total_images*n_pixels)\n",
        "  train_mean_squares += images.pow(2).sum()/(n_total_images*n_pixels)\n",
        "  \n",
        "train_std = (train_mean_squares-train_mean.pow(2)).sqrt()\n",
        "\n",
        "# now that we have the mean and the standard deviation, define the data loaders\n",
        "# we'll actually use such that the data will be automatically standardized at\n",
        "# load time.\n",
        "\n",
        "load_transform = torchvision.transforms.Compose([torchvision.transforms.ToTensor(),\n",
        "                                                 torchvision.transforms.Normalize((train_mean,), (train_std,))])\n",
        "\n",
        "trainset = torchvision.datasets.MNIST(root=data_folder, train=True,\n",
        "                                      download=True, transform=load_transform)\n",
        "testset =  torchvision.datasets.MNIST(root=data_folder, train=False,\n",
        "                                      download=True, transform=load_transform)\n",
        "\n",
        "trainloader = torch.utils.data.DataLoader(trainset, batch_size=100, shuffle=True)\n",
        "testloader = torch.utils.data.DataLoader(testset, batch_size=100, shuffle=False)"
      ],
      "execution_count": null,
      "outputs": []
    },
    {
      "cell_type": "markdown",
      "metadata": {
        "id": "WewMtF41W4zL"
      },
      "source": [
        "## Définir et instancier le réseau"
      ]
    },
    {
      "cell_type": "code",
      "metadata": {
        "id": "XKUygemcXDXl"
      },
      "source": [
        "class Net(nn.Module):\n",
        "  def __init__(self):\n",
        "    super(Net, self).__init__()\n",
        "    # in PyTorch, we often specify all layers of the network that require hyperparameters\n",
        "    # by creating them here inside __init__. The connections between layers will\n",
        "    # be established below, inside the forward() method. Note that the order in\n",
        "    # which we create them here does not matter, as the connections between them\n",
        "    # will be specified by the forward() method below.\n",
        "    self.conv1 = nn.Conv2d(in_channels=1, padding=2, out_channels=32, kernel_size=5) # what is the output size?\n",
        "    self.pool1 = nn.MaxPool2d(kernel_size=2, stride=2) # what is the output size?\n",
        "    self.conv2 = nn.Conv2d(in_channels=32, padding=2, out_channels=64, kernel_size=5)# what is the output size?\n",
        "    self.pool2 = nn.MaxPool2d(kernel_size=2, stride=2) # what is the output size?\n",
        "    self.fc1 = nn.Linear(in_features=64*7*7, out_features=1024) # where is the value passed as the in_features argument coming from?\n",
        "    self.fc2 = nn.Linear(in_features=1024, out_features=10)\n",
        "    self.dropout = nn.Dropout(p=0.5)\n",
        "    \n",
        "  def forward(self, x):\n",
        "    # this method specifies how the network processes its inputs - in other words, it describes the network's connectivity.\n",
        "    \n",
        "    # first convolution, followed by ReLU nonlinearity and pooling\n",
        "    x = self.pool1(F.relu(self.conv1(x)))\n",
        "    \n",
        "    # second convolution, followed by ReLU nonlinearity and pooling    \n",
        "    x = self.pool2(F.relu(self.conv2(x)))\n",
        "    \n",
        "    # reshape layer (concatenate all features, removing their \"topographic\" arrangement)\n",
        "    x = x.view(-1, 64*7*7)\n",
        "    \n",
        "    # first fully connected layer (with ReLU nonlinearity)\n",
        "    x = F.relu(self.fc1(x))\n",
        "    \n",
        "    # dropout (regularization)\n",
        "    x = self.dropout(x)\n",
        "    \n",
        "    # second fully connected layer\n",
        "    x = self.fc2(x)\n",
        "    \n",
        "    # softmax (\"squashing nonlinearity\") operation. This maps all values to the \n",
        "    # [0,1] interval, so that the final output can be interpreted as the \n",
        "    # probability of belonging to each of the 10 classes. Note that here, for \n",
        "    # easier later processing, we're actually computing the log of the softmax,\n",
        "    # so the outputs can be interpreted as log-probabilities.\n",
        "    x = F.log_softmax(x, dim=1)\n",
        "    \n",
        "    return x"
      ],
      "execution_count": null,
      "outputs": []
    },
    {
      "cell_type": "code",
      "metadata": {
        "colab": {
          "base_uri": "https://localhost:8080/",
          "height": 168
        },
        "id": "CERcjn2LXHTY",
        "outputId": "345ee3ce-a60a-4eea-ee77-5bfc38367163"
      },
      "source": [
        "# instantiate network\n",
        "net = Net()\n",
        "\n",
        "# move network to GPU if available\n",
        "net.to(device)"
      ],
      "execution_count": null,
      "outputs": [
        {
          "data": {
            "text/plain": [
              "Net(\n",
              "  (conv1): Conv2d(1, 32, kernel_size=(5, 5), stride=(1, 1), padding=(2, 2))\n",
              "  (pool1): MaxPool2d(kernel_size=2, stride=2, padding=0, dilation=1, ceil_mode=False)\n",
              "  (conv2): Conv2d(32, 64, kernel_size=(5, 5), stride=(1, 1), padding=(2, 2))\n",
              "  (pool2): MaxPool2d(kernel_size=2, stride=2, padding=0, dilation=1, ceil_mode=False)\n",
              "  (fc1): Linear(in_features=3136, out_features=1024, bias=True)\n",
              "  (fc2): Linear(in_features=1024, out_features=10, bias=True)\n",
              "  (dropout): Dropout(p=0.5)\n",
              ")"
            ]
          },
          "execution_count": 28,
          "metadata": {
            "tags": []
          },
          "output_type": "execute_result"
        }
      ]
    },
    {
      "cell_type": "markdown",
      "metadata": {
        "id": "SkOrJuxaXJa_"
      },
      "source": [
        "## Définir les fonctions utiles pour la visualisation"
      ]
    },
    {
      "cell_type": "code",
      "metadata": {
        "id": "_6SA25HQXM-J"
      },
      "source": [
        "def make_filter_image(layer, use_color=True, scale_each=True):\n",
        "  \"\"\"Build an image of the weights of the filters in a given convolutional layer.\"\"\"\n",
        "  weights = layer.weight.data.to(\"cpu\")\n",
        "  if not use_color:\n",
        "    n_input_channels = weights.size()[1]\n",
        "    weights = weights.view([weights.size()[0], 1, weights.size()[1]*weights.size()[2], weights.size()[3]])\n",
        "  img = torchvision.utils.make_grid(weights, normalize=True, scale_each=scale_each)\n",
        "  return img\n",
        "  \n",
        "def visualize_filters(layer, use_color=True, scale_each=True):\n",
        "  \"\"\"Plot the weights of the filters in a given convolutional layer.\n",
        "  \n",
        "    \n",
        "  If use_color is true (default), the input layer is expected to have either 1 (grayscale)\n",
        "  or 3(rgb) channels. This is useful for plotting the weights of the first hidden\n",
        "  layer of the network. If you want to plot the weights of later layer, where the\n",
        "  number of input channels is arbitrary set use_color to false.\n",
        "  \n",
        "  If scale_each is true (default), the values in each filter will be scaled\n",
        "  independently before plotting; this makes the features of each individual\n",
        "  filter stand out more. If it's false, the scaling will be done globally\n",
        "  across all filters; this allows one to compare the filters.\"\"\"\n",
        "  \n",
        "  img = make_filter_image(layer, use_color=use_color, scale_each=scale_each)\n",
        "  size = 4+max(img.size())/10\n",
        "  fig, ax = plt.subplots(figsize=(size,size))\n",
        "  imshow(img, ax)\n"
      ],
      "execution_count": null,
      "outputs": []
    },
    {
      "cell_type": "markdown",
      "metadata": {
        "id": "IclR82hJXRCv"
      },
      "source": [
        "## Définir la fonction de coût\n",
        "Pour une fonction de coût, un choix standard pour un problème de classification est L'entropie croisée (Cross Entropy). L'entropie croisée entre deux distributions discrètes $p[i]$ et $q[i]$ est définie comme suit\n",
        "$$\n",
        "H(p,q) = -\\sum_i p[i]\\log(q[i])\n",
        "$$\n",
        "\n",
        "Dans un problème de classification, l'indice $i$ ci-dessus ferait référence aux différentes classes auxquelles nous essayons d'affecter nos données. Si nous avons un échantillon dont la vraie classe est la classe $c$, nous disons que la distribution de probabilité réelle sur les classes pour cet échantillon est $p[i]=\\delta_{i,c}$, soit $p[i]=1$ si $i=c$ et $p[i]=0$ sinon. La distribution $q$, en revanche, est ce qui provient de notre réseau neuronal : si la dernière couche cachée est $\\mathbf{h}$ et que les sorties sont calculées par le softmax,\n",
        "\n",
        "$$\n",
        "q[i] = \\frac{\\exp(h_i)}{\\sum_j\\exp{h_j}}\n",
        "$$\n",
        "\n",
        "Si on branche ces valeurs dans l'expression de l'entropie relative, on obtient\n",
        "$$\n",
        "H(p,q) = -\\sum_i \\delta_i{i,c}\\log\\left(\\frac{\\exp(h_i)}{\\sum_l\\exp(h_l)}\\right) = -\\log\\left(\\frac{\\exp(h_c)}{\\sum_l\\exp(h_l) }\\right)\n",
        "$$\n",
        "On note que la dernière expression correspond à la probabilité logarithmique négative des données sous le modèle défini par le réseau (c'est juste egale à moins le logarithme de la probabilité attribuée par le réseau à la classe correcte). Ainsi, dans PyTorch, pour calculer cette fonction, nous utilisons la classe[negative log likelihood loss] (https://pytorch.org/docs/stable/nn.html?highlight=crossentropy#nllloss). Notez que PyTorch a aussi une classe[CrossEntropyLoss](https://pytorch.org/docs/stable/nn.html?highlight=crossentropy#crossentropyloss) qui combine le softmax et la probabilité de log négatif si vous ne voulez pas les calculer en étapes séparées.\n",
        "\n",
        "Lors de l'optimisation de notre réseau, nous imposerons également la régularisation L2. Conceptuellement, cela devrait être un terme ajouté à la fonction de coût :\n",
        "$$\n",
        "\\mathcal{L} = \\tilde{\\mathcal{L}} + \\lambda\\frac{1}{2}\\|\\mathbf{w}\\|^2 \n",
        "$$\n",
        "où $\\tilde{\\mathcal{\\mathcal{L}}}$ est notre fonction de coût originale, $\\|\\mathbf{w}\\|^2$ est la norme carrée du vecteur poids, et $\\lambda$ un hyperparamètre contrôlant la force de la régularisation et devant être défini par validation croisée. Comme il s'agit d'une forme très courante de régularisation, PyTorch offre un raccourci pratique pour l'implémenter, en passant simplement $\\lambda$ comme paramètre `weight_decay' à l'optimiseur (voir la définition de l'optimiseur dans la cellule suivante). La raison du nom du paramètre est que, pour chaque poids $w$, le terme de régularisation L2 ajoute au gradient le terme suivant :\n",
        "$$\n",
        "-\\frac{\\partial}{\\partial w}\\left(\\frac{1}{2}\\lambda w^2\\right) = -\\lambda w\n",
        "$$\n",
        "ce qui a pour effet de décomposer le poids linéairement vers zéro.\n",
        "\n",
        "### A part : entropie croisée et divergence Kullback-Leibler\n",
        "Enfin, une autre observation sur la fonction de cout d'entropie croisée. Notez que l'entropie croisée peut aussi s'écrire comme suit\n",
        "$$\n",
        "H(p,q) = H(p) + D_{KL}(p,q) = -\\sum_i p[i]\\log(p[i]) + \\sum_i p_i \\log\\left(\\frac{p[i]}{q[i]} \\right)\n",
        "$$\n",
        "où $D_{KL}(p,q)$ est la[divergence de Kullback-Leibler](https://en.wikipedia.org/wiki/Kullback%E2%80%93Leibler_divergence) entre $p$ et $q$, et est une mesure de dissimilarité entre deux distributions de probabilités. En général, minimiser $H(p,q)$ par rapport à certains paramètres $\\Theta$ quand seulement $q$ dépend de $\\Theta$ (comme dans notre cas, puisque nous minimisons par rapport aux paramètres des réseaux, qui affectent seulement la sortie du réseau $q$) équivaut à minimiser $D_{KL}$, et dans ce sens utiliser la perte d'entropie croisée signifie reproduire la vraie distribution de probabilité. Notez que dans le cas particulier de la classification, avec le choix pour $p$ que nous avons fait ci-dessus ($p[i]=\\delta_{i,c}$), il est facile de voir que $H(p)=0$, et donc $H(p,q)=D_{KL}(p,q)$."
      ]
    },
    {
      "cell_type": "code",
      "metadata": {
        "id": "vrczvOqHZdL5"
      },
      "source": [
        "# negative log likelihood loss (same as cross entropy in our case)\n",
        "criterion = nn.NLLLoss()\n"
      ],
      "execution_count": null,
      "outputs": []
    },
    {
      "cell_type": "markdown",
      "metadata": {
        "id": "aLi1XNO0aKTa"
      },
      "source": [
        "## Définir un optimiseur\n",
        "\n",
        "Pour cet exemple, nous utiliserons simplement la descente de gradient stochastique avec momentum. Étant donné une fonction de coût $\\mathcal{L}$, la règle de mise à jour pour le poids $w$ est la suivante\n",
        "$$\n",
        "\\Delta w := -\\eta\\frac{\\partial\\mathcal{L}}{\\partial w} + \\alpha \\Delta w\n",
        "$$\n",
        "où $\\eta$ est le taux d'apprentissage et $\\alpha$ est le paramètre momentum.\n",
        "\n",
        "Jetez un coup d'œil à la[documentation](https://pytorch.org/docs/stable/optim.html#algorithms) de PyTorch pour voir quels autres optimiseurs sont disponibles - n'hésitez pas à expérimenter et voir ce qui se passe !"
      ]
    },
    {
      "cell_type": "code",
      "metadata": {
        "id": "4V7qPnJwahPt"
      },
      "source": [
        "optimizer = optim.SGD(net.parameters(), lr=0.1, momentum=0.9) # for the weight_decay parameter, see explanation in the cell above (L2 regularization)"
      ],
      "execution_count": null,
      "outputs": []
    },
    {
      "cell_type": "markdown",
      "metadata": {
        "id": "-xv1JYKtakq9"
      },
      "source": [
        "## Train the network"
      ]
    },
    {
      "cell_type": "code",
      "metadata": {
        "colab": {
          "base_uri": "https://localhost:8080/",
          "height": 235
        },
        "id": "zDBhpQDManNr",
        "outputId": "6e32af28-8f79-4e46-87fd-d0ad553aeb6d"
      },
      "source": [
        "# number of epochs (iterations over the whole training dataset) we want to train\n",
        "# the model for. A very small number should be sufficient (1 or 2), but if you \n",
        "# are running this on a GPU you can also try increasing it, since it's much faster\n",
        "# that way.\n",
        "n_epochs = 2\n",
        "\n",
        "# set the network in \"training mode\". This affects the behaviour of the dropout \n",
        "# layer by \"activating\" it.\n",
        "net.train() \n",
        "\n",
        "# initialize logger\n",
        "writer = SummaryWriter()\n",
        "\n",
        "plot_iteration = 0\n",
        "for epoch in range(n_epochs):\n",
        "  \n",
        "  running_loss = 0 # we will update this value with a running average of the loss, computed by hand, to print during trainig. Note that the loss can also be seen on TensorBoard, and the plot has a smoothing option.\n",
        "  for i, data in enumerate(trainloader):\n",
        "    # get the next minibatch of data\n",
        "    inputs, labels = data\n",
        "    \n",
        "    # move data and labels to GPU if available\n",
        "    inputs = inputs.to(device)\n",
        "    labels = labels.to(device)\n",
        "    \n",
        "    # zero the gradients (this is needed because PyTorch accumulates gradients \n",
        "    # in all parameters every time we call loss.backward())\n",
        "    optimizer.zero_grad()\n",
        "    \n",
        "    # forward propagation of inputs: compute the activation of all units within the network\n",
        "    outputs = net(inputs)\n",
        "    \n",
        "    # compute the loss\n",
        "    loss = criterion(outputs, labels)\n",
        "    \n",
        "    # backpropagation: compute the numerical gradient of the loss with respect to\n",
        "    # all parameters, evaluated for the current values of the activations and the loss.\n",
        "    # As mentioned above, these values are stored locally within each parameter.\n",
        "    loss.backward()\n",
        "    \n",
        "    # take a step with the optimizer we have defined above. The optimizer will \n",
        "    # go through all the parameters it know about (which we have specified when\n",
        "    # we created it), and update them according to the gradients it will find there,\n",
        "    # which we have computed when we performed backpropagation.\n",
        "    optimizer.step()\n",
        "    \n",
        "    # print some statistics\n",
        "    running_loss += loss.item() # the .item() method casts a pytorch tensor of size 1 to a simple python scalar\n",
        "    if i % 10 == 0:\n",
        "      # every ten minibatches, send a picture of the 1st layer filters and the \n",
        "      # value of the loss to TensorBoard, which will automatically figure out how to plot them.\n",
        "      writer.add_image('Layer 1 filters', make_filter_image(net.conv1), plot_iteration)\n",
        "      writer.add_scalar('Loss', loss.item(), plot_iteration)\n",
        "      plot_iteration += 1\n",
        "    if i % 100 == 99:\n",
        "      # every 100 minibatches, print some information in the cell output.\n",
        "      print(\"[epoch {}, iter {}] loss: {:.3f}\".format(epoch+1, i+1, running_loss/100))\n",
        "      running_loss = 0\n",
        "\n",
        "# close the logger\n",
        "writer.close()\n",
        "\n",
        "print(\"Finished training\")"
      ],
      "execution_count": null,
      "outputs": [
        {
          "name": "stdout",
          "output_type": "stream",
          "text": [
            "[epoch 1, iter 100] loss: 0.616\n",
            "[epoch 1, iter 200] loss: 0.195\n",
            "[epoch 1, iter 300] loss: 0.173\n",
            "[epoch 1, iter 400] loss: 0.165\n",
            "[epoch 1, iter 500] loss: 0.139\n",
            "[epoch 1, iter 600] loss: 0.133\n",
            "[epoch 2, iter 100] loss: 0.117\n",
            "[epoch 2, iter 200] loss: 0.110\n",
            "[epoch 2, iter 300] loss: 0.114\n",
            "[epoch 2, iter 400] loss: 0.109\n",
            "[epoch 2, iter 500] loss: 0.089\n",
            "[epoch 2, iter 600] loss: 0.101\n",
            "Finished training\n"
          ]
        }
      ]
    },
    {
      "cell_type": "markdown",
      "metadata": {
        "id": "yGnCDGiYapsU"
      },
      "source": [
        "## Tester sur les données de test"
      ]
    },
    {
      "cell_type": "code",
      "metadata": {
        "colab": {
          "base_uri": "https://localhost:8080/",
          "height": 339
        },
        "id": "CqKiwiqVa2au",
        "outputId": "0b070454-acc2-4c28-bbda-97b07cf37383"
      },
      "source": [
        "net.eval() # set the network in evaluation mode (as opposed to training mode; see comment above when we called net.train())\n",
        "\n",
        "# load a set of example images from the testing set\n",
        "dataiter = iter(testloader)\n",
        "images, labels = dataiter.next()\n",
        "\n",
        "num_examples = images.size()[0]\n",
        "\n",
        "# plot the examples\n",
        "imshow(torchvision.utils.make_grid(images))\n",
        "\n",
        "# move the examples and the labels to the GPU if available (if the network is on the GPU, we have to move any data there before processing it!)\n",
        "images = images.to(device)\n",
        "labels = labels.to(device)\n",
        "\n",
        "# compute predictions and bring them back to the CPU\n",
        "outputs = net(images)\n",
        "_, predictions = torch.max(outputs, 1)\n",
        "\n",
        "\n",
        "#print(' '.join(('{}'.format(j) for j in labels)))\n",
        "print(\"Ground truth: \", \" \".join(\"{}\".format(labels[j]) for j in range(num_examples)))\n",
        "print(\"Predicted:    \", \" \".join(\"{}\".format(predictions[j]) for j in range(num_examples)))\n",
        "print(\"Accuracy: {}%\".format(100*(labels==predictions).sum()/num_examples))"
      ],
      "execution_count": null,
      "outputs": [
        {
          "name": "stdout",
          "output_type": "stream",
          "text": [
            "Ground truth:  7 2 1 0 4 1 4 9 5 9 0 6 9 0 1 5 9 7 3 4 9 6 6 5 4 0 7 4 0 1 3 1 3 4 7 2 7 1 2 1 1 7 4 2 3 5 1 2 4 4 6 3 5 5 6 0 4 1 9 5 7 8 9 3 7 4 6 4 3 0 7 0 2 9 1 7 3 2 9 7 7 6 2 7 8 4 7 3 6 1 3 6 9 3 1 4 1 7 6 9\n",
            "Predicted:     7 2 1 0 4 1 4 9 5 9 0 6 9 0 1 5 9 7 3 4 9 6 6 5 4 0 7 4 0 1 3 1 3 4 7 2 7 1 2 1 1 7 4 2 3 5 1 2 4 4 6 3 5 5 6 0 4 1 9 5 7 8 5 3 7 4 6 4 3 0 7 0 2 9 1 7 3 2 9 7 7 6 2 7 8 4 7 3 6 1 3 6 9 3 1 4 1 7 6 9\n",
            "Accuracy: 99%\n"
          ]
        },
        {
          "data": {
            "image/png": "[encoded data removed]",
            "text/plain": [
              "<Figure size 432x288 with 1 Axes>"
            ]
          },
          "metadata": {
            "tags": []
          },
          "output_type": "display_data"
        }
      ]
    },
    {
      "cell_type": "markdown",
      "metadata": {
        "id": "u5ZiM3wQa6FM"
      },
      "source": [
        "## Visualiser les filtres\n",
        "Les filtres du réseau formé peuvent être visualisés en utilisant la même fonction que celle utilisée pour générer les images envoyé à TensorBoard pendant l'apprentissage (mais vous êtes encouragés à utiliser TensorBoard et à regarder comment les filtres ont évolué depuis leur état initial !)\n",
        "\n",
        "En regardant le résultat ci-dessous, voyez-vous une tendance intéressante ?"
      ]
    },
    {
      "cell_type": "code",
      "metadata": {
        "colab": {
          "base_uri": "https://localhost:8080/",
          "height": 334
        },
        "id": "R8EHJrnqbWV9",
        "outputId": "b5515999-990f-4176-99b1-053e9a6b4d9b"
      },
      "source": [
        "visualize_filters(net.conv1)"
      ],
      "execution_count": null,
      "outputs": [
        {
          "data": {
            "image/png": "[encoded data removed]",
            "text/plain": [
              "<Figure size 705.6x705.6 with 1 Axes>"
            ]
          },
          "metadata": {
            "tags": []
          },
          "output_type": "display_data"
        }
      ]
    },
    {
      "cell_type": "markdown",
      "metadata": {
        "id": "vbLQ0488baSX"
      },
      "source": [
        "# Exercice\n",
        "\n",
        "Essayez maintenant d'implémenter un réseau convolutif qui effectue la classification des images sur[CIFAR10] (https://www.cs.toronto.edu/~kriz/cifar.html). CIFAR10 est une base de données d'images utilisé pour la reconnaissance d'objets. Il s'agit d'un sous-ensemble de l'ensemble de données[80 millions de minuscules images] (http://people.csail.mit.edu/torralba/tinyimages/) et se compose de 60 000 images couleur 32x32 contenant une des 10 classes d'objets, avec 6 000 images par classe. Les classes d'objets sont les suivantes :\n",
        "\n",
        "\n",
        "0. Avion\n",
        "1. Automobile\n",
        "2. Oiseau\n",
        "3. Chat\n",
        "4. Cerf\n",
        "5. Chien\n",
        "6. Grenouille\n",
        "7. Cheval\n",
        "8. Navire\n",
        "9. Camion\n",
        "\n",
        "\n",
        "\n",
        "Comme MNIST, CIFAR est accessible[directement depuis PyTorch](https://pytorch.org/docs/stable/torchvision/datasets.html#cifar) ; l'interface du chargeur de données devrait être très similaire. Vous pouvez commencer par implémenter une architecture comme celle que nous avons utilisée pour MNIST, et en la formant de la même manière. **Notez que l'entrée est en couleur RVB, et a une taille différente de MNIST (CIFAR est 3x32x32 alors que MNIST est 1x28x28), donc vous devrez probablement commencer par ajuster votre architecture pour y faire face**. Après l'avoir fait fonctionner, vous pouvez essayer de le modifier pour voir ce qui se passe si vous ajoutez, supprimez ou modifiez la taille des filtres, ajoutez ou supprimez des calques, etc."
      ]
    },
    {
      "cell_type": "code",
      "metadata": {
        "id": "H_9To6lTcCEk"
      },
      "source": [
        ""
      ],
      "execution_count": null,
      "outputs": []
    }
  ]
}